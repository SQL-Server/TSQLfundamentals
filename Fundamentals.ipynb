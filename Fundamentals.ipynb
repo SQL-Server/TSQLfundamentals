{
    "metadata": {
        "kernelspec": {
            "name": "SQL",
            "display_name": "SQL",
            "language": "sql"
        },
        "language_info": {
            "name": "sql",
            "version": ""
        }
    },
    "nbformat_minor": 2,
    "nbformat": 4,
    "cells": [
        {
            "cell_type": "markdown",
            "source": [
                "# T-SQL Fundamentals\r\n",
                ""
            ],
            "metadata": {
                "azdata_cell_guid": "2a75bb5c-53b7-4279-852b-61ebf7e2c9b9"
            },
            "attachments": {}
        }
    ]
}