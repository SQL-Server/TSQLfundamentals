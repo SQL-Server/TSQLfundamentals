{
    "metadata": {
        "kernelspec": {
            "name": "SQL",
            "display_name": "SQL",
            "language": "sql"
        },
        "language_info": {
            "name": "sql",
            "version": ""
        }
    },
    "nbformat_minor": 2,
    "nbformat": 4,
    "cells": [
        {
            "cell_type": "markdown",
            "source": [
                "# T-SQL Fundamentals\r\n",
                ""
            ],
            "metadata": {
                "azdata_cell_guid": "2a75bb5c-53b7-4279-852b-61ebf7e2c9b9"
            },
            "attachments": {}
        },
        {
            "cell_type": "markdown",
            "source": [
                "## Gestión de base de datos\n",
                "\n",
                "Crear una base de datos SQL Server"
            ],
            "metadata": {
                "azdata_cell_guid": "0d8cf823-a4a2-4bad-87ba-d679a1d7570b"
            },
            "attachments": {}
        },
        {
            "cell_type": "code",
            "source": [
                "CREATE DATABASE testDatabase\r\n",
                "GO"
            ],
            "metadata": {
                "azdata_cell_guid": "2b78dde5-45eb-4693-9d68-03550daab7f3",
                "language": "sql"
            },
            "outputs": [],
            "execution_count": null
        },
        {
            "cell_type": "markdown",
            "source": [
                "Crear una base de datos si no existe"
            ],
            "metadata": {
                "language": "sql",
                "azdata_cell_guid": "2f6b65e8-b3c5-46d7-af56-d91028250e9d"
            },
            "attachments": {}
        },
        {
            "cell_type": "code",
            "source": [
                "IF DB_ID('testDatabase') IS NULL\r\n",
                "CREATE DATABASE testDatabase\r\n",
                "PRINT 'Se ha creado la base de datos testDatabase'\r\n",
                "GO"
            ],
            "metadata": {
                "language": "sql",
                "azdata_cell_guid": "7812503a-31d4-4fa9-9bdb-77ed334ece74"
            },
            "outputs": [],
            "execution_count": null
        },
        {
            "cell_type": "markdown",
            "source": [
                "Eliminar base de datos existente"
            ],
            "metadata": {
                "azdata_cell_guid": "8fabe9c0-4a9a-450f-b214-03e8d4b28f4d"
            },
            "attachments": {}
        },
        {
            "cell_type": "code",
            "source": [
                "DROP DATABASE testDatabase\r\n",
                "GO"
            ],
            "metadata": {
                "azdata_cell_guid": "5a8f32b5-5580-43af-b5d1-17418c506631",
                "language": "sql"
            },
            "outputs": [],
            "execution_count": null
        },
        {
            "cell_type": "markdown",
            "source": [
                "Validar si existe una base de datos y eliminarla"
            ],
            "metadata": {
                "language": "sql",
                "azdata_cell_guid": "024e288d-9923-4c99-bf6b-57a37b1eaaf1"
            },
            "attachments": {}
        },
        {
            "cell_type": "code",
            "source": [
                "IF DB_ID('testDatabase') IS NOT NULL\r\n",
                "DROP DATABASE testDatabase;\r\n",
                "PRINT 'Base de datos encontrada y eliminada'\r\n",
                "GO"
            ],
            "metadata": {
                "language": "sql",
                "azdata_cell_guid": "b69d2d25-9bf1-4312-ba56-40ece89f9b6c"
            },
            "outputs": [],
            "execution_count": null
        },
        {
            "cell_type": "markdown",
            "source": [
                "Poner en uso base de datos"
            ],
            "metadata": {
                "language": "sql",
                "azdata_cell_guid": "7f5af795-3541-4ae5-9329-30e9737a1e6c"
            },
            "attachments": {}
        },
        {
            "cell_type": "code",
            "source": [
                "USE testDatabase\r\n",
                "GO"
            ],
            "metadata": {
                "language": "sql",
                "azdata_cell_guid": "03760ff4-4afa-4eff-8524-5778ad4c9bb9"
            },
            "outputs": [
                {
                    "output_type": "display_data",
                    "data": {
                        "text/html": "Commands completed successfully."
                    },
                    "metadata": {}
                },
                {
                    "output_type": "display_data",
                    "data": {
                        "text/html": "Total execution time: 00:00:00"
                    },
                    "metadata": {}
                }
            ],
            "execution_count": 43
        },
        {
            "cell_type": "markdown",
            "source": [
                ""
            ],
            "metadata": {
                "language": "sql",
                "azdata_cell_guid": "75b70d28-9bb8-4ba1-ab0f-a1b4f137586a"
            }
        }
    ]
}