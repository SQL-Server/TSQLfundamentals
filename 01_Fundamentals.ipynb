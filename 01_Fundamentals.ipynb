{
    "metadata": {
        "kernelspec": {
            "name": "SQL",
            "display_name": "SQL",
            "language": "sql"
        },
        "language_info": {
            "name": "sql",
            "version": ""
        }
    },
    "nbformat_minor": 2,
    "nbformat": 4,
    "cells": [
        {
            "cell_type": "markdown",
            "source": [
                "# T-SQL Fundamentals\r\n",
                ""
            ],
            "metadata": {
                "azdata_cell_guid": "2a75bb5c-53b7-4279-852b-61ebf7e2c9b9"
            },
            "attachments": {}
        },
        {
            "cell_type": "markdown",
            "source": [
                "## Gestión de base de datos\n",
                "\n",
                "Crear una base de datos SQL Server"
            ],
            "metadata": {
                "azdata_cell_guid": "0d8cf823-a4a2-4bad-87ba-d679a1d7570b"
            },
            "attachments": {}
        },
        {
            "cell_type": "code",
            "source": [
                "CREATE DATABASE testDatabase\r\n",
                "GO"
            ],
            "metadata": {
                "azdata_cell_guid": "2b78dde5-45eb-4693-9d68-03550daab7f3",
                "language": "sql"
            },
            "outputs": [],
            "execution_count": null
        }
    ]
}