{
    "metadata": {
        "kernelspec": {
            "name": "SQL",
            "display_name": "SQL",
            "language": "sql"
        },
        "language_info": {
            "name": "sql",
            "version": ""
        }
    },
    "nbformat_minor": 2,
    "nbformat": 4,
    "cells": [
        {
            "cell_type": "markdown",
            "source": [
                "# T-SQL Fundamentals\r\n",
                ""
            ],
            "metadata": {
                "azdata_cell_guid": "2a75bb5c-53b7-4279-852b-61ebf7e2c9b9"
            },
            "attachments": {}
        },
        {
            "cell_type": "markdown",
            "source": [
                "## Gestión de base de datos\n",
                "\n",
                "Crear una base de datos SQL Server"
            ],
            "metadata": {
                "azdata_cell_guid": "0d8cf823-a4a2-4bad-87ba-d679a1d7570b"
            },
            "attachments": {}
        },
        {
            "cell_type": "code",
            "source": [
                "CREATE DATABASE testDatabase\r\n",
                "GO"
            ],
            "metadata": {
                "azdata_cell_guid": "2b78dde5-45eb-4693-9d68-03550daab7f3",
                "language": "sql"
            },
            "outputs": [],
            "execution_count": null
        },
        {
            "cell_type": "markdown",
            "source": [
                "Crear una base de datos si no existe"
            ],
            "metadata": {
                "language": "sql",
                "azdata_cell_guid": "2f6b65e8-b3c5-46d7-af56-d91028250e9d"
            },
            "attachments": {}
        },
        {
            "cell_type": "code",
            "source": [
                "IF DB_ID('testDatabase') IS NULL\r\n",
                "CREATE DATABASE testDatabase\r\n",
                "PRINT 'Se ha creado la base de datos testDatabase'\r\n",
                "GO"
            ],
            "metadata": {
                "language": "sql",
                "azdata_cell_guid": "7812503a-31d4-4fa9-9bdb-77ed334ece74"
            },
            "outputs": [],
            "execution_count": null
        },
        {
            "cell_type": "markdown",
            "source": [
                "Eliminar base de datos existente"
            ],
            "metadata": {
                "azdata_cell_guid": "8fabe9c0-4a9a-450f-b214-03e8d4b28f4d"
            },
            "attachments": {}
        },
        {
            "cell_type": "code",
            "source": [
                "DROP DATABASE testDatabase\r\n",
                "GO"
            ],
            "metadata": {
                "azdata_cell_guid": "5a8f32b5-5580-43af-b5d1-17418c506631",
                "language": "sql"
            },
            "outputs": [],
            "execution_count": null
        },
        {
            "cell_type": "markdown",
            "source": [
                "Validar si existe una base de datos y eliminarla"
            ],
            "metadata": {
                "language": "sql",
                "azdata_cell_guid": "024e288d-9923-4c99-bf6b-57a37b1eaaf1"
            },
            "attachments": {}
        },
        {
            "cell_type": "code",
            "source": [
                "IF DB_ID('testDatabase') IS NOT NULL\r\n",
                "DROP DATABASE testDatabase;\r\n",
                "PRINT 'Base de datos encontrada y eliminada'\r\n",
                "GO"
            ],
            "metadata": {
                "language": "sql",
                "azdata_cell_guid": "b69d2d25-9bf1-4312-ba56-40ece89f9b6c"
            },
            "outputs": [],
            "execution_count": null
        },
        {
            "cell_type": "markdown",
            "source": [
                "Poner en uso base de datos"
            ],
            "metadata": {
                "language": "sql",
                "azdata_cell_guid": "7f5af795-3541-4ae5-9329-30e9737a1e6c"
            },
            "attachments": {}
        },
        {
            "cell_type": "code",
            "source": [
                "USE testDatabase\r\n",
                "GO"
            ],
            "metadata": {
                "language": "sql",
                "azdata_cell_guid": "03760ff4-4afa-4eff-8524-5778ad4c9bb9"
            },
            "outputs": [],
            "execution_count": null
        },
        {
            "cell_type": "markdown",
            "source": [
                "## Creación y gestión de tablas"
            ],
            "metadata": {
                "language": "sql",
                "azdata_cell_guid": "75b70d28-9bb8-4ba1-ab0f-a1b4f137586a"
            },
            "attachments": {}
        },
        {
            "cell_type": "markdown",
            "source": [
                "Crear tabla CLIENTE"
            ],
            "metadata": {
                "language": "sql",
                "azdata_cell_guid": "395b9465-b8b5-451e-92c0-b37571f720c4"
            },
            "attachments": {}
        },
        {
            "cell_type": "code",
            "source": [
                "CREATE TABLE CLIENTE\r\n",
                "(\r\n",
                "    CODCLI CHAR(4),\r\n",
                "    NOMCLI NCHAR(60),\r\n",
                "    APECLI NCHAR(80),\r\n",
                "    DNICLI CHAR(8),\r\n",
                "    ESTCLI CHAR(1) DEFAULT 'A', -- Agrega por default el estado A (activo)\r\n",
                "    CONSTRAINT CLI_PK PRIMARY KEY (CODCLI) -- Definiendo clave principal\r\n",
                ")\r\n",
                "GO"
            ],
            "metadata": {
                "language": "sql",
                "azdata_cell_guid": "4fb336bc-839d-485b-aa95-e52117e3ba6d"
            },
            "outputs": [],
            "execution_count": null
        },
        {
            "cell_type": "markdown",
            "source": [
                "Agregar campos a tabla CLIENTE"
            ],
            "metadata": {
                "language": "sql",
                "azdata_cell_guid": "7637d23c-59fc-4841-a09f-f43ae42d5972"
            },
            "attachments": {}
        },
        {
            "cell_type": "code",
            "source": [
                "ALTER TABLE CLIENTE \r\n",
                "    ADD UBICLI CHAR(6)\r\n",
                "GO"
            ],
            "metadata": {
                "language": "sql",
                "azdata_cell_guid": "a2bf97c7-7cc8-429a-bdfc-6333fd6fafd4"
            },
            "outputs": [],
            "execution_count": null
        },
        {
            "cell_type": "markdown",
            "source": [
                "Ver columnas de tabla CLIENTE"
            ],
            "metadata": {
                "language": "sql",
                "azdata_cell_guid": "17716476-c8ff-4511-9e58-77dbc9849e46"
            },
            "attachments": {}
        },
        {
            "cell_type": "code",
            "source": [
                "EXEC sp_columns @table_name='CLIENTE'\r\n",
                "GO"
            ],
            "metadata": {
                "language": "sql",
                "azdata_cell_guid": "f9e7bb74-2944-4786-aa86-908deb8f9d71"
            },
            "outputs": [],
            "execution_count": null
        },
        {
            "cell_type": "markdown",
            "source": [
                "Eliminar columna de tabla CLIENTE"
            ],
            "metadata": {
                "language": "sql",
                "azdata_cell_guid": "1389e509-44d8-4561-89d0-c326b03bf713"
            },
            "attachments": {}
        },
        {
            "cell_type": "code",
            "source": [
                "ALTER TABLE CLIENTE \r\n",
                "    DROP COLUMN UBICLI\r\n",
                "GO"
            ],
            "metadata": {
                "language": "sql",
                "azdata_cell_guid": "67a9373d-8d3f-4c72-ba0a-1eb2e6d79163"
            },
            "outputs": [],
            "execution_count": null
        },
        {
            "cell_type": "markdown",
            "source": [
                "Ver columnas de tabla CLIENTE"
            ],
            "metadata": {
                "language": "sql",
                "azdata_cell_guid": "395eb534-6ce1-4fc7-a3a3-e0b6dc84c68d"
            },
            "attachments": {}
        },
        {
            "cell_type": "code",
            "source": [
                "EXEC sp_columns @table_name='CLIENTE'\r\n",
                "GO"
            ],
            "metadata": {
                "language": "sql",
                "azdata_cell_guid": "6849e691-a39a-42b2-afab-8bd30aa5b6d1"
            },
            "outputs": [],
            "execution_count": null
        },
        {
            "cell_type": "markdown",
            "source": [
                "Eliminar tabla CLIENTE"
            ],
            "metadata": {
                "language": "sql",
                "azdata_cell_guid": "053d68d5-6c51-48cb-bc2b-fe740fae4dbd"
            },
            "attachments": {}
        },
        {
            "cell_type": "code",
            "source": [
                "DROP TABLE CLIENTE \r\n",
                "GO"
            ],
            "metadata": {
                "language": "sql",
                "azdata_cell_guid": "06725ec0-c436-4dc3-864e-75dfb66b312a"
            },
            "outputs": [],
            "execution_count": null
        },
        {
            "cell_type": "markdown",
            "source": [
                "## Gestión de registros"
            ],
            "metadata": {
                "language": "sql",
                "azdata_cell_guid": "a1d371a7-5319-4336-adba-cafb91521150"
            },
            "attachments": {}
        },
        {
            "cell_type": "markdown",
            "source": [
                "Insertar un registro tabla CLIENTE"
            ],
            "metadata": {
                "language": "sql",
                "azdata_cell_guid": "b1846a26-99e4-4696-b2b4-44093f1d4d6f"
            },
            "attachments": {}
        },
        {
            "cell_type": "code",
            "source": [
                "INSERT INTO CLIENTE\r\n",
                "(CODCLI, NOMCLI, APECLI, DNICLI)\r\n",
                "VALUES\r\n",
                "('C001', 'Alberto', 'Campos Barrios', '12659874')\r\n",
                "GO"
            ],
            "metadata": {
                "language": "sql",
                "azdata_cell_guid": "5a39817f-45ba-4aef-95ef-67518da88216"
            },
            "outputs": [],
            "execution_count": null
        },
        {
            "cell_type": "markdown",
            "source": [
                "Insertar más de un registro en una tabla CLIENTE"
            ],
            "metadata": {
                "language": "sql",
                "azdata_cell_guid": "3d6818d8-b752-4835-becf-36143456213d"
            },
            "attachments": {}
        },
        {
            "cell_type": "code",
            "source": [
                "INSERT INTO CLIENTE\r\n",
                "(CODCLI, NOMCLI, APECLI, DNICLI)\r\n",
                "VALUES\r\n",
                "('C002', 'Juana', 'Zavala Olaya', '98542631'),\r\n",
                "('C003', 'Marcos', 'Arredondo Palomino', '45123697'),\r\n",
                "('C004', 'Ramón', 'Stark Ríos', '25361478')\r\n",
                "GO"
            ],
            "metadata": {
                "language": "sql",
                "azdata_cell_guid": "71538450-bf64-47f3-9891-4e9449265378"
            },
            "outputs": [],
            "execution_count": null
        },
        {
            "cell_type": "markdown",
            "source": [
                "Listar registros tabla CLIENTE"
            ],
            "metadata": {
                "language": "sql",
                "azdata_cell_guid": "9edf6478-98df-435d-bcbc-d75623506400"
            },
            "attachments": {}
        },
        {
            "cell_type": "code",
            "source": [
                "SELECT * FROM CLIENTE \r\n",
                "GO"
            ],
            "metadata": {
                "language": "sql",
                "azdata_cell_guid": "2dafa5c4-a1c9-4293-a7d9-b7758a80ffc6"
            },
            "outputs": [],
            "execution_count": null
        },
        {
            "cell_type": "markdown",
            "source": [
                "Modificar o actualizar registro"
            ],
            "metadata": {
                "language": "sql",
                "azdata_cell_guid": "665cbd20-64bd-40ec-91a1-ba5f2fdba767"
            },
            "attachments": {}
        },
        {
            "cell_type": "code",
            "source": [
                "UPDATE CLIENTE\r\n",
                "    SET NOMCLI = 'Alexander'\r\n",
                "    WHERE CODCLI = 'C001'\r\n",
                "GO"
            ],
            "metadata": {
                "language": "sql",
                "azdata_cell_guid": "ed35c6bc-7d96-4481-b4ff-b2d00aee3c06"
            },
            "outputs": [],
            "execution_count": null
        },
        {
            "cell_type": "markdown",
            "source": [
                "Eliminar registros de tabla CLIENTE"
            ],
            "metadata": {
                "language": "sql",
                "azdata_cell_guid": "21ddd9e6-d969-4d6a-a3fb-500ef0e4f0eb"
            },
            "attachments": {}
        },
        {
            "cell_type": "code",
            "source": [
                "DELETE FROM CLIENTE\r\n",
                "    WHERE CODCLI = 'C002'\r\n",
                "GO"
            ],
            "metadata": {
                "language": "sql",
                "azdata_cell_guid": "f82ceb5b-1ce4-41ae-877b-a32d7ad09d42"
            },
            "outputs": [],
            "execution_count": null
        },
        {
            "cell_type": "markdown",
            "source": [
                "## Relacionar tablas"
            ],
            "metadata": {
                "language": "sql",
                "azdata_cell_guid": "aa83ecc6-ff4e-4363-9fe5-075e812eea92"
            },
            "attachments": {}
        },
        {
            "cell_type": "markdown",
            "source": [
                "### Tabla PERSONA"
            ],
            "metadata": {
                "language": "sql",
                "azdata_cell_guid": "8c25c39f-002e-40df-8b7f-c41695613f70"
            },
            "attachments": {}
        },
        {
            "cell_type": "code",
            "source": [
                "CREATE TABLE PERSONA\r\n",
                "(\r\n",
                "    IDPER INT IDENTITY(1,1),\r\n",
                "    NOMPER VARCHAR(60),\r\n",
                "    APEPER VARCHAR(80),\r\n",
                "    EMAPER VARCHAR(80),\r\n",
                "    TIPPER CHAR(1),\r\n",
                "    FECNACPER DATE,\r\n",
                "    ESTPER CHAR(1) DEFAULT 'A',\r\n",
                "    CONSTRAINT PER_PK PRIMARY KEY (IDPER)\r\n",
                ")\r\n",
                "GO"
            ],
            "metadata": {
                "language": "sql",
                "azdata_cell_guid": "88fb294c-70a2-4474-a05a-7c30d0eb80af"
            },
            "outputs": [],
            "execution_count": null
        },
        {
            "cell_type": "markdown",
            "source": [
                "### Tabla VENTA"
            ],
            "metadata": {
                "language": "sql",
                "azdata_cell_guid": "cdf703a0-e9a1-473a-821e-889d523c7fdb"
            },
            "attachments": {}
        },
        {
            "cell_type": "code",
            "source": [
                "CREATE TABLE VENTA \r\n",
                "(\r\n",
                "    IDVEN INT IDENTITY(1,1),\r\n",
                "    IDPERVEN INT,\r\n",
                "    IDPERCLI INT,\r\n",
                "    FECVEN DATETIME DEFAULT GETDATE(), \r\n",
                "    ESTVEN CHAR(1),\r\n",
                "    CONSTRAINT VEN_PK PRIMARY KEY (IDVEN)\r\n",
                ")\r\n",
                "GO"
            ],
            "metadata": {
                "language": "sql",
                "azdata_cell_guid": "e0be7c3a-8e80-4414-9d37-2e2c83e58deb"
            },
            "outputs": [],
            "execution_count": null
        },
        {
            "cell_type": "markdown",
            "source": [
                "Establecer relación entre tablas VENTA - PERSONA (VENDEDOR)"
            ],
            "metadata": {
                "language": "sql",
                "azdata_cell_guid": "0f662570-dfc4-4fca-8de2-f344496f8f60"
            },
            "attachments": {}
        },
        {
            "cell_type": "code",
            "source": [
                "ALTER TABLE VENTA \r\n",
                "ADD CONSTRAINT VENTVEN_FK FOREIGN KEY (IDPERVEN)\r\n",
                "REFERENCES PERSONA (IDPER)\r\n",
                "GO"
            ],
            "metadata": {
                "language": "sql",
                "azdata_cell_guid": "35e6f07d-f8d7-4414-bf13-2b9ceb81edc5"
            },
            "outputs": [],
            "execution_count": null
        },
        {
            "cell_type": "markdown",
            "source": [
                "Establecer relación entre tablas VENTA - PERSONA (CLIENTE)"
            ],
            "metadata": {
                "language": "sql",
                "azdata_cell_guid": "4ee4a23b-98fd-4c5c-ad45-e008b1682f9e"
            },
            "attachments": {}
        },
        {
            "cell_type": "code",
            "source": [
                "ALTER TABLE VENTA \r\n",
                "ADD CONSTRAINT VENTCLI_FK FOREIGN KEY (IDPERCLI)\r\n",
                "REFERENCES PERSONA (IDPER)\r\n",
                "GO"
            ],
            "metadata": {
                "language": "sql",
                "azdata_cell_guid": "b67a186d-4d79-4d2f-9c1f-e481855596ab"
            },
            "outputs": [],
            "execution_count": null
        },
        {
            "cell_type": "markdown",
            "source": [
                "### Gestionando FECHAS en SQL SERVER"
            ],
            "metadata": {
                "language": "sql",
                "azdata_cell_guid": "31ac701c-a2c3-4e39-8ca5-c792dc2c85a5"
            },
            "attachments": {}
        },
        {
            "cell_type": "markdown",
            "source": [
                "Ver idioma en que se ha instalado MS SQL Server"
            ],
            "metadata": {
                "language": "sql",
                "azdata_cell_guid": "52b2bd4d-dfae-4a7b-9830-2821b1d4035e"
            },
            "attachments": {}
        },
        {
            "cell_type": "code",
            "source": [
                "SELECT @@language as 'Idioma de SQL Server'\r\n",
                "GO"
            ],
            "metadata": {
                "language": "sql",
                "azdata_cell_guid": "1c320139-746c-4998-bcdc-d457c6e01b2c"
            },
            "outputs": [],
            "execution_count": null
        },
        {
            "cell_type": "markdown",
            "source": [
                "Ver el formato de fecha de acuerdo al idioma de MS SQL Server"
            ],
            "metadata": {
                "language": "sql",
                "azdata_cell_guid": "cee90ad8-b9bc-4f74-9716-9feb437fcb55"
            },
            "attachments": {}
        },
        {
            "cell_type": "code",
            "source": [
                "SELECT SYSDATETIME() AS 'Fecha y hora de SQL Server'\r\n",
                "GO"
            ],
            "metadata": {
                "language": "sql",
                "azdata_cell_guid": "bcadf567-26ce-42fe-b32c-27a998f232d8",
                "tags": []
            },
            "outputs": [],
            "execution_count": null
        },
        {
            "cell_type": "markdown",
            "source": [
                "Establecer el formato de fecha en DMY (día/mes/año)"
            ],
            "metadata": {
                "language": "sql",
                "azdata_cell_guid": "11de404e-789f-49dd-96b0-e554f9df75de"
            },
            "attachments": {}
        },
        {
            "cell_type": "code",
            "source": [
                "SET DATEFORMAT dmy\r\n",
                "GO"
            ],
            "metadata": {
                "language": "sql",
                "azdata_cell_guid": "3fed4436-fd68-45d0-8606-1625ee65ef2a"
            },
            "outputs": [],
            "execution_count": null
        },
        {
            "cell_type": "markdown",
            "source": [
                "Probamos la inserción de fechas en tabla"
            ],
            "metadata": {
                "language": "sql",
                "azdata_cell_guid": "4183aaa2-f3c5-4ea2-947a-71e6f3abf497"
            },
            "attachments": {}
        },
        {
            "cell_type": "code",
            "source": [
                "CREATE TABLE TEST (FECHA DATE)\r\n",
                "GO"
            ],
            "metadata": {
                "language": "sql",
                "azdata_cell_guid": "2725fb0a-d713-48c4-88d6-f32575ceeebd"
            },
            "outputs": [],
            "execution_count": null
        },
        {
            "cell_type": "code",
            "source": [
                "SET DATEFORMAT dmy\r\n",
                "GO\r\n",
                "INSERT INTO TEST VALUES ('20/12/1999')\r\n",
                "GO"
            ],
            "metadata": {
                "language": "sql",
                "azdata_cell_guid": "5bc451f0-870f-4d72-8fe0-472edbff2d88",
                "tags": []
            },
            "outputs": [],
            "execution_count": null
        },
        {
            "cell_type": "code",
            "source": [
                "SELECT * FROM TEST\r\n",
                "GO"
            ],
            "metadata": {
                "language": "sql",
                "azdata_cell_guid": "b6e95198-e5ee-4b99-a233-6aff0bed4cd4"
            },
            "outputs": [],
            "execution_count": null
        },
        {
            "cell_type": "code",
            "source": [
                "SELECT FORMAT(FECHA, 'd/MM/yyy')  AS 'Listar fecha'\r\n",
                "FROM TEST\r\n",
                "GO"
            ],
            "metadata": {
                "language": "sql",
                "azdata_cell_guid": "290557d7-743a-4811-a03d-84b999955748"
            },
            "outputs": [],
            "execution_count": null
        }
    ]
}