{
    "metadata": {
        "kernelspec": {
            "name": "SQL",
            "display_name": "SQL",
            "language": "sql"
        },
        "language_info": {
            "name": "sql",
            "version": ""
        }
    },
    "nbformat_minor": 2,
    "nbformat": 4,
    "cells": [
        {
            "cell_type": "markdown",
            "source": [
                "# T-SQL Fundamentals\r\n",
                ""
            ],
            "metadata": {
                "azdata_cell_guid": "2a75bb5c-53b7-4279-852b-61ebf7e2c9b9"
            },
            "attachments": {}
        },
        {
            "cell_type": "markdown",
            "source": [
                "Crear una base de datos SQL Server"
            ],
            "metadata": {
                "azdata_cell_guid": "0d8cf823-a4a2-4bad-87ba-d679a1d7570b"
            },
            "attachments": {}
        },
        {
            "cell_type": "code",
            "source": [
                "CREATE DATABASE testDatabase\r\n",
                "GO"
            ],
            "metadata": {
                "azdata_cell_guid": "2b78dde5-45eb-4693-9d68-03550daab7f3",
                "language": "sql"
            },
            "outputs": [
                {
                    "output_type": "display_data",
                    "data": {
                        "text/html": "Commands completed successfully."
                    },
                    "metadata": {}
                },
                {
                    "output_type": "display_data",
                    "data": {
                        "text/html": "Total execution time: 00:00:00.647"
                    },
                    "metadata": {}
                }
            ],
            "execution_count": 1
        }
    ]
}